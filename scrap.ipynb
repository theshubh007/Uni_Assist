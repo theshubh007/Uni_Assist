{
 "cells": [
  {
   "cell_type": "code",
   "execution_count": 3,
   "metadata": {},
   "outputs": [],
   "source": [
    "import requests\n",
    "from bs4 import BeautifulSoup\n",
    "from pymongo import MongoClient\n",
    "import random\n",
    "\n",
    "import os\n",
    "\n",
    "import dotenv"
   ]
  },
  {
   "cell_type": "code",
   "execution_count": 1,
   "metadata": {},
   "outputs": [],
   "source": [
    "user_agents = [\n",
    "    \"Mozilla/5.0 (Windows NT 10.0; Win64; x64) AppleWebKit/537.36 (KHTML, like Gecko) Chrome/60.0.3112.78 Safari/537.36 OPR/47.0.2631.39\",\n",
    "    \"Mozilla/5.0 (Windows NT 6.1; WOW64; Trident/7.0; AS; rv:11.0) like Gecko\",\n",
    "    \"Mozilla/5.0 (Macintosh; Intel Mac OS X 10_12_5) AppleWebKit/603.2.4 (KHTML, like Gecko) Version/10.1.1 Safari/603.2.4\",\n",
    "    \"My User Agent 1.0\",\n",
    "]"
   ]
  },
  {
   "cell_type": "code",
   "execution_count": 5,
   "metadata": {},
   "outputs": [],
   "source": [
    "import requests\n",
    "from bs4 import BeautifulSoup\n",
    "import random\n",
    "from pydantic import BaseModel\n",
    "from typing import Optional\n",
    "from datetime import date, datetime\n",
    "import json\n",
    "\n",
    "\n",
    "class BBCModel(BaseModel):\n",
    "    url: str\n",
    "    category: Optional[str] = \"General\"\n",
    "    date: date\n",
    "    header: Optional[str]\n",
    "    body: Optional[str]\n",
    "\n",
    "\n",
    "class BBC:\n",
    "\n",
    "    def __init__(self, url, category=\"General\"):\n",
    "        self.url = url\n",
    "        self.category = category\n",
    "        self.date = date.today()\n",
    "        self.header = None\n",
    "        self.body = None\n",
    "        self.soup = None\n",
    "        self.scrape()\n",
    "\n",
    "    def scrape(self):\n",
    "        headers = {\"User-Agent\": random.choice(user_agents)}\n",
    "\n",
    "        response = requests.get(self.url, headers=headers)\n",
    "        self.soup = BeautifulSoup(response.content, \"html.parser\")\n",
    "        self.header = self.get_header(self.soup)\n",
    "        self.body = self.get_body(self.soup)\n",
    "\n",
    "    def get_header(self, soup):\n",
    "        # Adjust the CSS selector according to the actual HTML structure\n",
    "        header_tag = soup.find(\"h1\")\n",
    "        if header_tag:\n",
    "            return header_tag.get_text().strip()\n",
    "        return None\n",
    "\n",
    "    def get_body(self, soup):\n",
    "        text_block_div = soup.find(\"div\", {\"data-component\": \"text-block\"})\n",
    "        if text_block_div:\n",
    "            paragraphs = text_block_div.find_all(\"p\")\n",
    "            return \" \".join([p.get_text().strip() for p in paragraphs])\n",
    "        return None\n",
    "\n",
    "    def get_url(self):\n",
    "        return self.url\n",
    "\n",
    "    def get_category(self):\n",
    "        return self.category\n",
    "\n",
    "    def to_json(self):\n",
    "        date_datetime = datetime(self.date.year, self.date.month, self.date.day)\n",
    "        return {\n",
    "            \"url\": self.get_url(),\n",
    "            \"category\": self.get_category(),\n",
    "            \"date\": date_datetime,\n",
    "            \"header\": self.get_header(self.soup),\n",
    "            \"body\": self.get_body(self.soup),\n",
    "        }"
   ]
  },
  {
   "cell_type": "code",
   "execution_count": 38,
   "metadata": {},
   "outputs": [],
   "source": [
    "sjsu_page = \"https://www.sjsu.edu/\""
   ]
  },
  {
   "cell_type": "code",
   "execution_count": 39,
   "metadata": {},
   "outputs": [
    {
     "name": "stdout",
     "output_type": "stream",
     "text": [
      "Scraping Page...\n"
     ]
    }
   ],
   "source": [
    "def scrape_page():\n",
    "    print(\"Scraping Page...\")\n",
    "    url = \"https://www.sjsu.edu/\"\n",
    "    headers = {\"User-Agent\": random.choice(user_agents)}\n",
    "    response = requests.get(url, headers=headers)\n",
    "    soup = BeautifulSoup(response.content, \"html.parser\")\n",
    "    with open(\"scraped_content.txt\", \"w\", encoding=\"utf-8\") as file:\n",
    "        file.write(soup.get_text())\n",
    "\n",
    "scrape_page()    "
   ]
  },
  {
   "cell_type": "code",
   "execution_count": 40,
   "metadata": {},
   "outputs": [
    {
     "name": "stdout",
     "output_type": "stream",
     "text": [
      "Scraping Page...\n",
      "161\n"
     ]
    }
   ],
   "source": [
    "def scrape_links_from_page():\n",
    "    print(\"Scraping Page...\")\n",
    "    url = \"https://www.sjsu.edu/\"\n",
    "    headers = {\"User-Agent\": random.choice(user_agents)}\n",
    "    response = requests.get(url, headers=headers)\n",
    "    soup = BeautifulSoup(response.content, \"html.parser\")\n",
    "    links = [a.get('href') for a in soup.find_all('a', href=True)]\n",
    "    # return links\n",
    "    print(len(links))\n",
    "    # for link in links:\n",
    "    #     print(link)\n",
    "    return links\n",
    "all_links= scrape_links_from_page()"
   ]
  },
  {
   "cell_type": "code",
   "execution_count": 41,
   "metadata": {},
   "outputs": [
    {
     "name": "stdout",
     "output_type": "stream",
     "text": [
      "HTTP Links:  146\n",
      "Non-HTTP Links:  15\n",
      "HTTP Links:  ['#maincontent', '/', '/visit/index.php', '/admissions/index.php', '/giving/', '/online/index.php?utm_source=sjsumainmenu&utm_medium=web&utm_campaign=sjsuonline-navmenu-traffic', '/giving/', '/index.php', '/online/index.php?utm_source=sjsumainmenu-mobile&utm_medium=web&utm_campaign=sjsuonline-navmenu-traffic', '/about/', '', '/facts-and-accomplishments/', '/online/', 'tel:4089241000', '/online/index.php']\n"
     ]
    }
   ],
   "source": [
    "def separate_links(links):\n",
    "    http_links = [link for link in links if link.startswith('http')]\n",
    "    non_http_links = [link for link in links if not link.startswith('http')]\n",
    "    return http_links, non_http_links\n",
    "\n",
    "http_links, non_http_links = separate_links(all_links)\n",
    "print(\"HTTP Links: \", len(http_links))\n",
    "print(\"Non-HTTP Links: \", len(non_http_links))\n",
    "\n",
    "print(\"HTTP Links: \", non_http_links)\n"
   ]
  },
  {
   "cell_type": "code",
   "execution_count": 46,
   "metadata": {},
   "outputs": [
    {
     "name": "stdout",
     "output_type": "stream",
     "text": [
      "Final Links:  160\n"
     ]
    }
   ],
   "source": [
    "def add_prefix_to_links(links, prefix):\n",
    "    return [prefix + link for link in links]\n",
    "\n",
    "final_non_http_links = add_prefix_to_links(non_http_links, sjsu_page)\n",
    "\n",
    "# print(\"Final Non-HTTP Links: \", final_non_http_links)\n",
    "\n",
    "\n",
    "final_links = final_non_http_links + http_links\n",
    "final_links = [link.replace(\"https://one.sjsu.edu\", \"\").strip() for link in final_links]\n",
    "final_links = [link for link in final_links if link]\n",
    "# Save links to a text file\n",
    "with open(\"final_links.txt\", \"w\") as f:\n",
    "    for link in final_links:\n",
    "        f.write(link + \"\\n\")\n",
    "\n",
    "print(\"Final Links: \", len(final_links))"
   ]
  },
  {
   "cell_type": "code",
   "execution_count": 47,
   "metadata": {},
   "outputs": [
    {
     "name": "stdout",
     "output_type": "stream",
     "text": [
      "Final Links:  http://www.sjsu.edu/search/index.html\n"
     ]
    }
   ],
   "source": [
    "print(\"Final Links: \", final_links[59])"
   ]
  },
  {
   "cell_type": "code",
   "execution_count": null,
   "metadata": {},
   "outputs": [],
   "source": []
  },
  {
   "cell_type": "code",
   "execution_count": 48,
   "metadata": {},
   "outputs": [
    {
     "name": "stderr",
     "output_type": "stream",
     "text": [
      "Scraping Pages:   0%|          | 0/160 [00:00<?, ?it/s]"
     ]
    },
    {
     "name": "stdout",
     "output_type": "stream",
     "text": [
      "Scraping Page:  https://www.sjsu.edu/#maincontent\n"
     ]
    },
    {
     "name": "stderr",
     "output_type": "stream",
     "text": [
      "Scraping Pages:   1%|▏         | 2/160 [00:00<00:31,  4.96it/s]"
     ]
    },
    {
     "name": "stdout",
     "output_type": "stream",
     "text": [
      "Scraping Page:  https://www.sjsu.edu//\n",
      "Scraping Page:  https://www.sjsu.edu//visit/index.php\n"
     ]
    },
    {
     "name": "stderr",
     "output_type": "stream",
     "text": [
      "Scraping Pages:   2%|▏         | 3/160 [00:00<00:25,  6.04it/s]"
     ]
    },
    {
     "name": "stdout",
     "output_type": "stream",
     "text": [
      "Scraping Page:  https://www.sjsu.edu//admissions/index.php\n"
     ]
    },
    {
     "name": "stderr",
     "output_type": "stream",
     "text": [
      "Scraping Pages:   3%|▎         | 5/160 [00:00<00:31,  5.00it/s]"
     ]
    },
    {
     "name": "stdout",
     "output_type": "stream",
     "text": [
      "Scraping Page:  https://www.sjsu.edu//giving/\n"
     ]
    },
    {
     "name": "stderr",
     "output_type": "stream",
     "text": [
      "Scraping Pages:   4%|▍         | 6/160 [00:01<00:30,  5.13it/s]"
     ]
    },
    {
     "name": "stdout",
     "output_type": "stream",
     "text": [
      "Scraping Page:  https://www.sjsu.edu//online/index.php?utm_source=sjsumainmenu&utm_medium=web&utm_campaign=sjsuonline-navmenu-traffic\n"
     ]
    },
    {
     "name": "stderr",
     "output_type": "stream",
     "text": [
      "Scraping Pages:   4%|▍         | 7/160 [00:01<00:25,  5.91it/s]"
     ]
    },
    {
     "name": "stdout",
     "output_type": "stream",
     "text": [
      "Scraping Page:  https://www.sjsu.edu//giving/\n",
      "Scraping Page:  https://www.sjsu.edu//index.php\n"
     ]
    },
    {
     "name": "stderr",
     "output_type": "stream",
     "text": [
      "Scraping Pages:   6%|▌         | 9/160 [00:01<00:30,  5.01it/s]"
     ]
    },
    {
     "name": "stdout",
     "output_type": "stream",
     "text": [
      "Scraping Page:  https://www.sjsu.edu//online/index.php?utm_source=sjsumainmenu-mobile&utm_medium=web&utm_campaign=sjsuonline-navmenu-traffic\n"
     ]
    },
    {
     "name": "stderr",
     "output_type": "stream",
     "text": [
      "Scraping Pages:   6%|▋         | 10/160 [00:01<00:25,  5.80it/s]"
     ]
    },
    {
     "name": "stdout",
     "output_type": "stream",
     "text": [
      "Scraping Page:  https://www.sjsu.edu//about/\n",
      "Scraping Page:  https://www.sjsu.edu/\n"
     ]
    },
    {
     "name": "stderr",
     "output_type": "stream",
     "text": [
      "Scraping Pages:   8%|▊         | 12/160 [00:02<00:26,  5.49it/s]"
     ]
    },
    {
     "name": "stdout",
     "output_type": "stream",
     "text": [
      "Scraping Page:  https://www.sjsu.edu//facts-and-accomplishments/\n",
      "Scraping Page:  https://www.sjsu.edu//online/\n"
     ]
    },
    {
     "name": "stderr",
     "output_type": "stream",
     "text": [
      "Scraping Pages:   9%|▉         | 14/160 [00:02<00:30,  4.82it/s]"
     ]
    },
    {
     "name": "stdout",
     "output_type": "stream",
     "text": [
      "Scraping Page:  https://www.sjsu.edu/tel:4089241000\n"
     ]
    },
    {
     "name": "stderr",
     "output_type": "stream",
     "text": [
      "Scraping Pages:   9%|▉         | 15/160 [00:02<00:27,  5.22it/s]"
     ]
    },
    {
     "name": "stdout",
     "output_type": "stream",
     "text": [
      "Scraping Page:  https://www.sjsu.edu//online/index.php\n",
      "Scraping Page:  https://www.sjsu.edu/visit/index.php\n"
     ]
    },
    {
     "name": "stderr",
     "output_type": "stream",
     "text": [
      "Scraping Pages:  11%|█         | 17/160 [00:03<00:24,  5.88it/s]"
     ]
    },
    {
     "name": "stdout",
     "output_type": "stream",
     "text": [
      "Scraping Page:  https://www.sjsu.edu/soar/services/campus-tours.php\n",
      "Scraping Page:  http://www.sjsu.edu/map\n"
     ]
    },
    {
     "name": "stderr",
     "output_type": "stream",
     "text": [
      "Scraping Pages:  11%|█▏        | 18/160 [00:03<00:26,  5.36it/s]"
     ]
    },
    {
     "name": "stdout",
     "output_type": "stream",
     "text": [
      "Scraping Page:  https://www.sjsu.edu/parking/\n"
     ]
    },
    {
     "name": "stderr",
     "output_type": "stream",
     "text": [
      "Scraping Pages:  12%|█▎        | 20/160 [00:03<00:32,  4.35it/s]"
     ]
    },
    {
     "name": "stdout",
     "output_type": "stream",
     "text": [
      "Scraping Page:  https://www.sjsu.edu/visit/silicon-valley.php\n",
      "Scraping Page:  https://hammertheatre.com/\n"
     ]
    },
    {
     "name": "stderr",
     "output_type": "stream",
     "text": [
      "Scraping Pages:  14%|█▍        | 22/160 [00:04<00:31,  4.40it/s]"
     ]
    },
    {
     "name": "stdout",
     "output_type": "stream",
     "text": [
      "Scraping Page:  https://www.sjsu.edu/sjsulovessj/\n",
      "Scraping Page:  https://www.sjsu.edu/academics/index.php\n"
     ]
    },
    {
     "name": "stderr",
     "output_type": "stream",
     "text": [
      "Scraping Pages:  14%|█▍        | 23/160 [00:04<00:27,  4.89it/s]"
     ]
    },
    {
     "name": "stdout",
     "output_type": "stream",
     "text": [
      "Scraping Page:  https://www.sjsu.edu/academics/colleges-and-departments.php\n",
      "Scraping Page:  https://catalog.sjsu.edu/content.php?catoid=14&navoid=5107\n"
     ]
    },
    {
     "name": "stderr",
     "output_type": "stream",
     "text": [
      "Scraping Pages:  16%|█▌        | 25/160 [00:05<00:47,  2.84it/s]"
     ]
    },
    {
     "name": "stdout",
     "output_type": "stream",
     "text": [
      "Scraping Page:  https://www.sjsu.edu/classes/calendar/index.php\n"
     ]
    },
    {
     "name": "stderr",
     "output_type": "stream",
     "text": [
      "Scraping Pages:  17%|█▋        | 27/160 [00:06<00:37,  3.54it/s]"
     ]
    },
    {
     "name": "stdout",
     "output_type": "stream",
     "text": [
      "Scraping Page:  https://www.sjsu.edu/classes/index.php\n",
      "Scraping Page:  http://library.sjsu.edu/\n"
     ]
    },
    {
     "name": "stderr",
     "output_type": "stream",
     "text": [
      "Scraping Pages:  18%|█▊        | 29/160 [00:06<00:39,  3.28it/s]"
     ]
    },
    {
     "name": "stdout",
     "output_type": "stream",
     "text": [
      "Scraping Page:  https://www.sjsu.edu/admissions/index.php\n"
     ]
    },
    {
     "name": "stderr",
     "output_type": "stream",
     "text": [
      "Scraping Pages:  19%|█▉        | 30/160 [00:06<00:33,  3.84it/s]"
     ]
    },
    {
     "name": "stdout",
     "output_type": "stream",
     "text": [
      "Scraping Page:  https://www.sjsu.edu/tuition-and-fees/index.php\n",
      "Scraping Page:  https://www.sjsu.edu/housing-options/index.php\n"
     ]
    },
    {
     "name": "stderr",
     "output_type": "stream",
     "text": [
      "Scraping Pages:  19%|█▉        | 31/160 [00:07<00:29,  4.33it/s]"
     ]
    },
    {
     "name": "stdout",
     "output_type": "stream",
     "text": [
      "Scraping Page:  https://www.sjsu.edu/professional/\n"
     ]
    },
    {
     "name": "stderr",
     "output_type": "stream",
     "text": [
      "Scraping Pages:  20%|██        | 32/160 [00:07<00:35,  3.58it/s]"
     ]
    },
    {
     "name": "stdout",
     "output_type": "stream",
     "text": [
      "Scraping Page:  https://www.sjsu.edu/global/\n"
     ]
    },
    {
     "name": "stderr",
     "output_type": "stream",
     "text": [
      "Scraping Pages:  21%|██▏       | 34/160 [00:07<00:30,  4.17it/s]"
     ]
    },
    {
     "name": "stdout",
     "output_type": "stream",
     "text": [
      "Scraping Page:  https://www.sjsu.edu/parent-and-family-programs/index.php\n",
      "Scraping Page:  https://www.sjsu.edu/studentaffairs/index.php\n"
     ]
    },
    {
     "name": "stderr",
     "output_type": "stream",
     "text": [
      "Scraping Pages:  22%|██▏       | 35/160 [00:08<00:31,  3.99it/s]"
     ]
    },
    {
     "name": "stdout",
     "output_type": "stream",
     "text": [
      "Scraping Page:  https://www.sjsu.edu/campus-life/health-and-wellness.php\n",
      "Scraping Page:  https://www.sjsu.edu/campus-life/safety.php\n"
     ]
    },
    {
     "name": "stderr",
     "output_type": "stream",
     "text": [
      "Scraping Pages:  24%|██▍       | 38/160 [00:08<00:23,  5.26it/s]"
     ]
    },
    {
     "name": "stdout",
     "output_type": "stream",
     "text": [
      "Scraping Page:  https://www.sjsu.edu/sjsucares/\n",
      "Scraping Page:  https://www.sjsu.edu/campus-life/events.php\n"
     ]
    },
    {
     "name": "stderr",
     "output_type": "stream",
     "text": [
      "Scraping Pages:  25%|██▌       | 40/160 [00:08<00:22,  5.29it/s]"
     ]
    },
    {
     "name": "stdout",
     "output_type": "stream",
     "text": [
      "Scraping Page:  https://www.sjsu.edu/studentaffairs/experience-campus/index.php\n",
      "Scraping Page:  https://www.sjsu.edu/campus-life/traditions.php\n"
     ]
    },
    {
     "name": "stderr",
     "output_type": "stream",
     "text": [
      "Scraping Pages:  26%|██▋       | 42/160 [00:09<00:20,  5.65it/s]"
     ]
    },
    {
     "name": "stdout",
     "output_type": "stream",
     "text": [
      "Scraping Page:  https://www.sjsu.edu/campus-life/sac.php\n",
      "Scraping Page:  https://www.sjsu.edu/about/research/\n"
     ]
    },
    {
     "name": "stderr",
     "output_type": "stream",
     "text": [
      "Scraping Pages:  28%|██▊       | 44/160 [00:09<00:18,  6.31it/s]"
     ]
    },
    {
     "name": "stdout",
     "output_type": "stream",
     "text": [
      "Scraping Page:  https://www.sjsu.edu/research/\n",
      "Scraping Page:  https://www.sjsu.edu/innovation/\n"
     ]
    },
    {
     "name": "stderr",
     "output_type": "stream",
     "text": [
      "Scraping Pages:  28%|██▊       | 45/160 [00:09<00:16,  6.81it/s]"
     ]
    },
    {
     "name": "stdout",
     "output_type": "stream",
     "text": [
      "Scraping Page:  https://www.sjsu.edu/researchfoundation/\n"
     ]
    },
    {
     "name": "stderr",
     "output_type": "stream",
     "text": [
      "Scraping Pages:  29%|██▉       | 47/160 [00:10<00:28,  3.92it/s]"
     ]
    },
    {
     "name": "stdout",
     "output_type": "stream",
     "text": [
      "Scraping Page:  https://www.sjsu.edu/about/research/student-faculty-collaborations.php\n",
      "Scraping Page:  https://www.sjsu.edu/about/research/become-a-research-partner.php\n"
     ]
    },
    {
     "name": "stderr",
     "output_type": "stream",
     "text": [
      "Scraping Pages:  31%|███       | 49/160 [00:10<00:22,  4.95it/s]"
     ]
    },
    {
     "name": "stdout",
     "output_type": "stream",
     "text": [
      "Scraping Page:  https://www.sjsu.edu/research/about/cci/index.php\n",
      "Scraping Page:  https://www.sjsu.edu/about/index.php\n"
     ]
    },
    {
     "name": "stderr",
     "output_type": "stream",
     "text": [
      "Scraping Pages:  32%|███▏      | 51/160 [00:11<00:19,  5.72it/s]"
     ]
    },
    {
     "name": "stdout",
     "output_type": "stream",
     "text": [
      "Scraping Page:  https://www.sjsu.edu/about/administration-and-leadership.php\n",
      "Scraping Page:  https://www.sjsu.edu/facts-and-accomplishments/index.php\n"
     ]
    },
    {
     "name": "stderr",
     "output_type": "stream",
     "text": [
      "Scraping Pages:  32%|███▎      | 52/160 [00:11<00:18,  5.81it/s]"
     ]
    },
    {
     "name": "stdout",
     "output_type": "stream",
     "text": [
      "Scraping Page:  https://blogs.sjsu.edu/newsroom/\n"
     ]
    },
    {
     "name": "stderr",
     "output_type": "stream",
     "text": [
      "Scraping Pages:  34%|███▍      | 54/160 [00:11<00:20,  5.14it/s]"
     ]
    },
    {
     "name": "stdout",
     "output_type": "stream",
     "text": [
      "Scraping Page:  https://www.sjsu.edu/about/partnerships.php\n",
      "Scraping Page:  https://www.sjsu.edu/strategicplan/\n"
     ]
    },
    {
     "name": "stderr",
     "output_type": "stream",
     "text": [
      "Scraping Pages:  34%|███▍      | 55/160 [00:12<00:35,  2.95it/s]"
     ]
    },
    {
     "name": "stdout",
     "output_type": "stream",
     "text": [
      "Scraping Page:  https://www.sjsu.edu/transform/\n"
     ]
    },
    {
     "name": "stderr",
     "output_type": "stream",
     "text": [
      "Scraping Pages:  35%|███▌      | 56/160 [00:13<00:49,  2.10it/s]"
     ]
    },
    {
     "name": "stdout",
     "output_type": "stream",
     "text": [
      "Scraping Page:  http://www.sjsuspartans.com\n"
     ]
    },
    {
     "name": "stderr",
     "output_type": "stream",
     "text": [
      "Scraping Pages:  36%|███▌      | 57/160 [00:13<00:51,  1.99it/s]"
     ]
    },
    {
     "name": "stdout",
     "output_type": "stream",
     "text": [
      "Scraping Page:  https://www.sjsu.edu/alumni/index.php\n"
     ]
    },
    {
     "name": "stderr",
     "output_type": "stream",
     "text": [
      "Scraping Pages:  36%|███▋      | 58/160 [00:14<00:44,  2.29it/s]"
     ]
    },
    {
     "name": "stdout",
     "output_type": "stream",
     "text": [
      "Scraping Page:  https://sjsu.instructure.com\n"
     ]
    },
    {
     "name": "stderr",
     "output_type": "stream",
     "text": [
      "Scraping Pages:  37%|███▋      | 59/160 [00:15<01:08,  1.48it/s]"
     ]
    },
    {
     "name": "stdout",
     "output_type": "stream",
     "text": [
      "Scraping Page:  http://www.sjsu.edu/search/index.html\n"
     ]
    },
    {
     "name": "stderr",
     "output_type": "stream",
     "text": [
      "Scraping Pages:  38%|███▊      | 60/160 [00:15<00:54,  1.84it/s]"
     ]
    },
    {
     "name": "stdout",
     "output_type": "stream",
     "text": [
      "Scraping Page:  https://www.sjsu.edu/visit/index.php\n"
     ]
    },
    {
     "name": "stderr",
     "output_type": "stream",
     "text": [
      "Scraping Pages:  39%|███▉      | 62/160 [00:15<00:36,  2.68it/s]"
     ]
    },
    {
     "name": "stdout",
     "output_type": "stream",
     "text": [
      "Scraping Page:  https://www.sjsu.edu/soar/services/campus-tours.php\n"
     ]
    },
    {
     "name": "stderr",
     "output_type": "stream",
     "text": [
      "Scraping Pages:  39%|███▉      | 63/160 [00:16<00:31,  3.05it/s]"
     ]
    },
    {
     "name": "stdout",
     "output_type": "stream",
     "text": [
      "Scraping Page:  http://www.sjsu.edu/map\n",
      "Scraping Page:  https://www.sjsu.edu/parking/\n"
     ]
    },
    {
     "name": "stderr",
     "output_type": "stream",
     "text": [
      "Scraping Pages:  40%|████      | 64/160 [00:16<00:29,  3.20it/s]"
     ]
    },
    {
     "name": "stdout",
     "output_type": "stream",
     "text": [
      "Scraping Page:  https://www.sjsu.edu/visit/silicon-valley.php\n"
     ]
    },
    {
     "name": "stderr",
     "output_type": "stream",
     "text": [
      "Scraping Pages:  41%|████      | 65/160 [00:16<00:29,  3.24it/s]"
     ]
    },
    {
     "name": "stdout",
     "output_type": "stream",
     "text": [
      "Scraping Page:  https://hammertheatre.com/\n"
     ]
    },
    {
     "name": "stderr",
     "output_type": "stream",
     "text": [
      "Scraping Pages:  42%|████▏     | 67/160 [00:17<00:26,  3.53it/s]"
     ]
    },
    {
     "name": "stdout",
     "output_type": "stream",
     "text": [
      "Scraping Page:  https://www.sjsu.edu/sjsulovessj/\n"
     ]
    },
    {
     "name": "stderr",
     "output_type": "stream",
     "text": [
      "Scraping Pages:  42%|████▎     | 68/160 [00:17<00:22,  4.08it/s]"
     ]
    },
    {
     "name": "stdout",
     "output_type": "stream",
     "text": [
      "Scraping Page:  https://www.sjsu.edu/academics/index.php\n",
      "Scraping Page:  https://www.sjsu.edu/academics/colleges-and-departments.php\n"
     ]
    },
    {
     "name": "stderr",
     "output_type": "stream",
     "text": [
      "Scraping Pages:  43%|████▎     | 69/160 [00:17<00:19,  4.57it/s]"
     ]
    },
    {
     "name": "stdout",
     "output_type": "stream",
     "text": [
      "Scraping Page:  https://catalog.sjsu.edu/content.php?catoid=14&navoid=5107\n"
     ]
    },
    {
     "name": "stderr",
     "output_type": "stream",
     "text": [
      "Scraping Pages:  44%|████▍     | 71/160 [00:18<00:28,  3.15it/s]"
     ]
    },
    {
     "name": "stdout",
     "output_type": "stream",
     "text": [
      "Scraping Page:  https://www.sjsu.edu/classes/calendar/index.php\n",
      "Scraping Page:  https://www.sjsu.edu/classes/index.php\n"
     ]
    },
    {
     "name": "stderr",
     "output_type": "stream",
     "text": [
      "Scraping Pages:  45%|████▌     | 72/160 [00:18<00:23,  3.68it/s]"
     ]
    },
    {
     "name": "stdout",
     "output_type": "stream",
     "text": [
      "Scraping Page:  http://library.sjsu.edu/\n"
     ]
    },
    {
     "name": "stderr",
     "output_type": "stream",
     "text": [
      "Scraping Pages:  46%|████▌     | 73/160 [00:19<00:28,  3.07it/s]"
     ]
    },
    {
     "name": "stdout",
     "output_type": "stream",
     "text": [
      "Scraping Page:  https://www.sjsu.edu/admissions/index.php\n"
     ]
    },
    {
     "name": "stderr",
     "output_type": "stream",
     "text": [
      "Scraping Pages:  47%|████▋     | 75/160 [00:19<00:20,  4.13it/s]"
     ]
    },
    {
     "name": "stdout",
     "output_type": "stream",
     "text": [
      "Scraping Page:  https://www.sjsu.edu/tuition-and-fees/index.php\n",
      "Scraping Page:  https://www.sjsu.edu/housing-options/index.php\n"
     ]
    },
    {
     "name": "stderr",
     "output_type": "stream",
     "text": [
      "Scraping Pages:  48%|████▊     | 76/160 [00:19<00:17,  4.91it/s]"
     ]
    },
    {
     "name": "stdout",
     "output_type": "stream",
     "text": [
      "Scraping Page:  https://www.sjsu.edu/professional/\n"
     ]
    },
    {
     "name": "stderr",
     "output_type": "stream",
     "text": [
      "Scraping Pages:  48%|████▊     | 77/160 [00:19<00:20,  4.00it/s]"
     ]
    },
    {
     "name": "stdout",
     "output_type": "stream",
     "text": [
      "Scraping Page:  https://www.sjsu.edu/global/\n"
     ]
    },
    {
     "name": "stderr",
     "output_type": "stream",
     "text": [
      "Scraping Pages:  49%|████▉     | 79/160 [00:20<00:21,  3.81it/s]"
     ]
    },
    {
     "name": "stdout",
     "output_type": "stream",
     "text": [
      "Scraping Page:  https://www.sjsu.edu/parent-and-family-programs/index.php\n",
      "Scraping Page:  https://www.sjsu.edu/studentaffairs/index.php\n"
     ]
    },
    {
     "name": "stderr",
     "output_type": "stream",
     "text": [
      "Scraping Pages:  51%|█████     | 81/160 [00:20<00:15,  5.08it/s]"
     ]
    },
    {
     "name": "stdout",
     "output_type": "stream",
     "text": [
      "Scraping Page:  https://www.sjsu.edu/campus-life/health-and-wellness.php\n",
      "Scraping Page:  https://www.sjsu.edu/campus-life/safety.php\n"
     ]
    },
    {
     "name": "stderr",
     "output_type": "stream",
     "text": [
      "Scraping Pages:  52%|█████▏    | 83/160 [00:21<00:19,  4.05it/s]"
     ]
    },
    {
     "name": "stdout",
     "output_type": "stream",
     "text": [
      "Scraping Page:  https://www.sjsu.edu/sjsucares/\n",
      "Scraping Page:  https://www.sjsu.edu/campus-life/events.php\n"
     ]
    },
    {
     "name": "stderr",
     "output_type": "stream",
     "text": [
      "Scraping Pages:  52%|█████▎    | 84/160 [00:21<00:15,  4.80it/s]"
     ]
    },
    {
     "name": "stdout",
     "output_type": "stream",
     "text": [
      "Scraping Page:  https://www.sjsu.edu/studentaffairs/experience-campus/index.php\n"
     ]
    },
    {
     "name": "stderr",
     "output_type": "stream",
     "text": [
      "Scraping Pages:  54%|█████▍    | 86/160 [00:22<00:16,  4.46it/s]"
     ]
    },
    {
     "name": "stdout",
     "output_type": "stream",
     "text": [
      "Scraping Page:  https://www.sjsu.edu/campus-life/traditions.php\n",
      "Scraping Page:  https://www.sjsu.edu/campus-life/sac.php\n"
     ]
    },
    {
     "name": "stderr",
     "output_type": "stream",
     "text": [
      "Scraping Pages:  55%|█████▌    | 88/160 [00:22<00:14,  4.99it/s]"
     ]
    },
    {
     "name": "stdout",
     "output_type": "stream",
     "text": [
      "Scraping Page:  https://www.sjsu.edu/about/research/\n"
     ]
    },
    {
     "name": "stderr",
     "output_type": "stream",
     "text": [
      "Scraping Pages:  56%|█████▌    | 89/160 [00:22<00:13,  5.08it/s]"
     ]
    },
    {
     "name": "stdout",
     "output_type": "stream",
     "text": [
      "Scraping Page:  https://www.sjsu.edu/research/\n"
     ]
    },
    {
     "name": "stderr",
     "output_type": "stream",
     "text": [
      "Scraping Pages:  56%|█████▋    | 90/160 [00:22<00:13,  5.30it/s]"
     ]
    },
    {
     "name": "stdout",
     "output_type": "stream",
     "text": [
      "Scraping Page:  https://www.sjsu.edu/innovation/\n",
      "Scraping Page:  https://www.sjsu.edu/researchfoundation/\n"
     ]
    },
    {
     "name": "stderr",
     "output_type": "stream",
     "text": [
      "Scraping Pages:  57%|█████▊    | 92/160 [00:23<00:13,  5.17it/s]"
     ]
    },
    {
     "name": "stdout",
     "output_type": "stream",
     "text": [
      "Scraping Page:  https://www.sjsu.edu/about/research/student-faculty-collaborations.php\n",
      "Scraping Page:  https://www.sjsu.edu/about/research/become-a-research-partner.php\n"
     ]
    },
    {
     "name": "stderr",
     "output_type": "stream",
     "text": [
      "Scraping Pages:  58%|█████▊    | 93/160 [00:23<00:12,  5.47it/s]"
     ]
    },
    {
     "name": "stdout",
     "output_type": "stream",
     "text": [
      "Scraping Page:  https://www.sjsu.edu/research/about/cci/index.php\n"
     ]
    },
    {
     "name": "stderr",
     "output_type": "stream",
     "text": [
      "Scraping Pages:  59%|█████▉    | 94/160 [00:23<00:14,  4.62it/s]"
     ]
    },
    {
     "name": "stdout",
     "output_type": "stream",
     "text": [
      "Scraping Page:  https://sjsuspartans.com/\n"
     ]
    },
    {
     "name": "stderr",
     "output_type": "stream",
     "text": [
      "Scraping Pages:  60%|██████    | 96/160 [00:24<00:12,  4.96it/s]"
     ]
    },
    {
     "name": "stdout",
     "output_type": "stream",
     "text": [
      "Scraping Page:  https://www.sjsu.edu/about/index.php\n",
      "Scraping Page:  https://www.sjsu.edu/about/administration-and-leadership.php\n"
     ]
    },
    {
     "name": "stderr",
     "output_type": "stream",
     "text": [
      "Scraping Pages:  61%|██████▏   | 98/160 [00:24<00:11,  5.31it/s]"
     ]
    },
    {
     "name": "stdout",
     "output_type": "stream",
     "text": [
      "Scraping Page:  https://www.sjsu.edu/facts-and-accomplishments/index.php\n",
      "Scraping Page:  https://blogs.sjsu.edu/newsroom/\n"
     ]
    },
    {
     "name": "stderr",
     "output_type": "stream",
     "text": [
      "Scraping Pages:  62%|██████▎   | 100/160 [00:24<00:11,  5.28it/s]"
     ]
    },
    {
     "name": "stdout",
     "output_type": "stream",
     "text": [
      "Scraping Page:  https://www.sjsu.edu/about/partnerships.php\n",
      "Scraping Page:  https://www.sjsu.edu/strategicplan/\n"
     ]
    },
    {
     "name": "stderr",
     "output_type": "stream",
     "text": [
      "Scraping Pages:  64%|██████▍   | 102/160 [00:25<00:09,  5.96it/s]"
     ]
    },
    {
     "name": "stdout",
     "output_type": "stream",
     "text": [
      "Scraping Page:  https://www.sjsu.edu/transform/\n",
      "Scraping Page:  https://www.sjsu.edu/naissc/events/native-american-heritage-month.php\n"
     ]
    },
    {
     "name": "stderr",
     "output_type": "stream",
     "text": [
      "Scraping Pages:  64%|██████▍   | 103/160 [00:25<00:10,  5.59it/s]"
     ]
    },
    {
     "name": "stdout",
     "output_type": "stream",
     "text": [
      "Scraping Page:  https://blogs.sjsu.edu/newsroom/2024/wall-street-journal-ranks-sjsu-the-4-public-school-in-the-country/\n"
     ]
    },
    {
     "name": "stderr",
     "output_type": "stream",
     "text": [
      "Scraping Pages:  65%|██████▌   | 104/160 [00:25<00:11,  4.84it/s]"
     ]
    },
    {
     "name": "stdout",
     "output_type": "stream",
     "text": [
      "Scraping Page:  https://blogs.sjsu.edu/newsroom/2024/san-jose-state-launches-the-college-of-information-data-and-society-ids/\n"
     ]
    },
    {
     "name": "stderr",
     "output_type": "stream",
     "text": [
      "Scraping Pages:  66%|██████▌   | 105/160 [00:26<00:14,  3.67it/s]"
     ]
    },
    {
     "name": "stdout",
     "output_type": "stream",
     "text": [
      "Scraping Page:  https://blogs.sjsu.edu/newsroom/2024/first-year-writing-program-presents-the-inaugural-digital-literacy-expo/\n"
     ]
    },
    {
     "name": "stderr",
     "output_type": "stream",
     "text": [
      "Scraping Pages:  67%|██████▋   | 107/160 [00:27<00:28,  1.85it/s]"
     ]
    },
    {
     "name": "stdout",
     "output_type": "stream",
     "text": [
      "Scraping Page:  https://blogs.sjsu.edu/newsroom/2024/sjsu-named-fulbright-hsi-leader-by-the-u-s-department-of-state-for-fourth-year-running/\n",
      "Scraping Page:  https://blogs.sjsu.edu/newsroom/2024/san-jose-state-joins-aqueous-battery-consortium-for-clean-energy-storage/\n"
     ]
    },
    {
     "name": "stderr",
     "output_type": "stream",
     "text": [
      "Scraping Pages:  68%|██████▊   | 108/160 [00:28<00:24,  2.15it/s]"
     ]
    },
    {
     "name": "stdout",
     "output_type": "stream",
     "text": [
      "Scraping Page:  http://blogs.sjsu.edu/newsroom/\n"
     ]
    },
    {
     "name": "stderr",
     "output_type": "stream",
     "text": [
      "Scraping Pages:  68%|██████▊   | 109/160 [00:29<00:30,  1.69it/s]"
     ]
    },
    {
     "name": "stdout",
     "output_type": "stream",
     "text": [
      "Scraping Page:  https://events.sjsu.edu/event/womens-basketball-san-jose-state-vs-san-francisco-st\n"
     ]
    },
    {
     "name": "stderr",
     "output_type": "stream",
     "text": [
      "Scraping Pages:  69%|██████▉   | 110/160 [00:29<00:33,  1.50it/s]"
     ]
    },
    {
     "name": "stdout",
     "output_type": "stream",
     "text": [
      "Scraping Page:  https://events.sjsu.edu/event/writing-workshop-writing-concisely-fall-2024-2\n"
     ]
    },
    {
     "name": "stderr",
     "output_type": "stream",
     "text": [
      "Scraping Pages:  69%|██████▉   | 111/160 [00:30<00:36,  1.34it/s]"
     ]
    },
    {
     "name": "stdout",
     "output_type": "stream",
     "text": [
      "Scraping Page:  https://events.sjsu.edu/event/beading-circle-with-ohlone-cultural-bearers-898\n"
     ]
    },
    {
     "name": "stderr",
     "output_type": "stream",
     "text": [
      "Scraping Pages:  70%|███████   | 112/160 [00:31<00:39,  1.23it/s]"
     ]
    },
    {
     "name": "stdout",
     "output_type": "stream",
     "text": [
      "Scraping Page:  https://events.sjsu.edu/event/cabaret\n"
     ]
    },
    {
     "name": "stderr",
     "output_type": "stream",
     "text": [
      "Scraping Pages:  71%|███████   | 113/160 [00:32<00:33,  1.40it/s]"
     ]
    },
    {
     "name": "stdout",
     "output_type": "stream",
     "text": [
      "Scraping Page:  https://events.sjsu.edu/\n"
     ]
    },
    {
     "name": "stderr",
     "output_type": "stream",
     "text": [
      "Scraping Pages:  71%|███████▏  | 114/160 [00:38<01:41,  2.21s/it]"
     ]
    },
    {
     "name": "stdout",
     "output_type": "stream",
     "text": [
      "Scraping Page:  https://pages.sjsu.edu/choose-sjsu\n"
     ]
    },
    {
     "name": "stderr",
     "output_type": "stream",
     "text": [
      "Scraping Pages:  72%|███████▏  | 115/160 [00:38<01:19,  1.76s/it]"
     ]
    },
    {
     "name": "stdout",
     "output_type": "stream",
     "text": [
      "Scraping Page:  http://www.sjsu.edu/wsq\n"
     ]
    },
    {
     "name": "stderr",
     "output_type": "stream",
     "text": [
      "Scraping Pages:  72%|███████▎  | 116/160 [00:40<01:12,  1.65s/it]"
     ]
    },
    {
     "name": "stdout",
     "output_type": "stream",
     "text": [
      "Scraping Page:  https://www.juicer.io\n"
     ]
    },
    {
     "name": "stderr",
     "output_type": "stream",
     "text": [
      "Scraping Pages:  73%|███████▎  | 117/160 [00:40<00:57,  1.33s/it]"
     ]
    },
    {
     "name": "stdout",
     "output_type": "stream",
     "text": [
      "Scraping Page:  http://www.facebook.com/sanjosestate\n"
     ]
    },
    {
     "name": "stderr",
     "output_type": "stream",
     "text": [
      "Scraping Pages:  74%|███████▍  | 118/160 [00:40<00:42,  1.02s/it]"
     ]
    },
    {
     "name": "stdout",
     "output_type": "stream",
     "text": [
      "Scraping Page:  https://twitter.com/sjsu\n"
     ]
    },
    {
     "name": "stderr",
     "output_type": "stream",
     "text": [
      "Scraping Pages:  74%|███████▍  | 119/160 [00:41<00:36,  1.11it/s]"
     ]
    },
    {
     "name": "stdout",
     "output_type": "stream",
     "text": [
      "Scraping Page:  http://www.linkedin.com/company/san-jose-state-university\n"
     ]
    },
    {
     "name": "stderr",
     "output_type": "stream",
     "text": [
      "Scraping Pages:  75%|███████▌  | 120/160 [00:43<00:45,  1.14s/it]"
     ]
    },
    {
     "name": "stdout",
     "output_type": "stream",
     "text": [
      "Scraping Page:  http://www.instagram.com/sjsu\n"
     ]
    },
    {
     "name": "stderr",
     "output_type": "stream",
     "text": [
      "Scraping Pages:  76%|███████▌  | 121/160 [00:44<00:39,  1.01s/it]"
     ]
    },
    {
     "name": "stdout",
     "output_type": "stream",
     "text": [
      "Scraping Page:  http://www.youtube.com/user/sjsu\n"
     ]
    },
    {
     "name": "stderr",
     "output_type": "stream",
     "text": [
      "Scraping Pages:  76%|███████▋  | 122/160 [00:44<00:31,  1.20it/s]"
     ]
    },
    {
     "name": "stdout",
     "output_type": "stream",
     "text": [
      "Scraping Page:  https://goo.gl/maps/8PBZPkKH15WVnq396\n"
     ]
    },
    {
     "name": "stderr",
     "output_type": "stream",
     "text": [
      "Scraping Pages:  78%|███████▊  | 124/160 [00:46<00:30,  1.18it/s]"
     ]
    },
    {
     "name": "stdout",
     "output_type": "stream",
     "text": [
      "Scraping Page:  https://www.sjsu.edu/accessibility/index.php\n"
     ]
    },
    {
     "name": "stderr",
     "output_type": "stream",
     "text": [
      "Scraping Pages:  78%|███████▊  | 125/160 [00:46<00:22,  1.57it/s]"
     ]
    },
    {
     "name": "stdout",
     "output_type": "stream",
     "text": [
      "Scraping Page:  https://www.sjsu.edu/aiie/accreditation/index.php\n",
      "Scraping Page:  https://www.sjsu.edu/titleixeo/index.php\n"
     ]
    },
    {
     "name": "stderr",
     "output_type": "stream",
     "text": [
      "Scraping Pages:  79%|███████▉  | 127/160 [00:46<00:13,  2.48it/s]"
     ]
    },
    {
     "name": "stdout",
     "output_type": "stream",
     "text": [
      "Scraping Page:  https://www.sjsu.edu/diversity/index.php\n",
      "Scraping Page:  https://www.sjsu.edu/diversity/land-acknowledgement/\n"
     ]
    },
    {
     "name": "stderr",
     "output_type": "stream",
     "text": [
      "Scraping Pages:  81%|████████  | 129/160 [00:47<00:09,  3.33it/s]"
     ]
    },
    {
     "name": "stdout",
     "output_type": "stream",
     "text": [
      "Scraping Page:  https://www.sjsu.edu/privacy/\n"
     ]
    },
    {
     "name": "stderr",
     "output_type": "stream",
     "text": [
      "Scraping Pages:  81%|████████▏ | 130/160 [00:47<00:08,  3.67it/s]"
     ]
    },
    {
     "name": "stdout",
     "output_type": "stream",
     "text": [
      "Scraping Page:  https://www.sjsu.edu/cob/index.php\n"
     ]
    },
    {
     "name": "stderr",
     "output_type": "stream",
     "text": [
      "Scraping Pages:  82%|████████▏ | 131/160 [00:47<00:07,  4.02it/s]"
     ]
    },
    {
     "name": "stdout",
     "output_type": "stream",
     "text": [
      "Scraping Page:  https://www.sjsu.edu/education/index.php\n"
     ]
    },
    {
     "name": "stderr",
     "output_type": "stream",
     "text": [
      "Scraping Pages:  82%|████████▎ | 132/160 [00:47<00:06,  4.54it/s]"
     ]
    },
    {
     "name": "stdout",
     "output_type": "stream",
     "text": [
      "Scraping Page:  https://www.sjsu.edu/engineering/index.php\n",
      "Scraping Page:  https://www.sjsu.edu/cgs/index.php\n"
     ]
    },
    {
     "name": "stderr",
     "output_type": "stream",
     "text": [
      "Scraping Pages:  83%|████████▎ | 133/160 [00:48<00:06,  4.09it/s]"
     ]
    },
    {
     "name": "stdout",
     "output_type": "stream",
     "text": [
      "Scraping Page:  https://www.sjsu.edu/chhs/index.php\n"
     ]
    },
    {
     "name": "stderr",
     "output_type": "stream",
     "text": [
      "Scraping Pages:  84%|████████▍ | 134/160 [00:48<00:08,  3.06it/s]"
     ]
    },
    {
     "name": "stdout",
     "output_type": "stream",
     "text": [
      "Scraping Page:  https://www.sjsu.edu/information-data-society/index.php\n"
     ]
    },
    {
     "name": "stderr",
     "output_type": "stream",
     "text": [
      "Scraping Pages:  85%|████████▌ | 136/160 [00:48<00:06,  3.74it/s]"
     ]
    },
    {
     "name": "stdout",
     "output_type": "stream",
     "text": [
      "Scraping Page:  https://www.sjsu.edu/humanitiesandarts/index.php\n",
      "Scraping Page:  https://sjsu.edu/professional/\n"
     ]
    },
    {
     "name": "stderr",
     "output_type": "stream",
     "text": [
      "Scraping Pages:  86%|████████▋ | 138/160 [00:49<00:05,  3.72it/s]"
     ]
    },
    {
     "name": "stdout",
     "output_type": "stream",
     "text": [
      "Scraping Page:  https://www.sjsu.edu/science/index.php\n",
      "Scraping Page:  https://www.sjsu.edu/socialsciences/index.php\n",
      "Scraping Page:  http://www.sjsu.edu/siteindex\n"
     ]
    },
    {
     "name": "stderr",
     "output_type": "stream",
     "text": [
      "Scraping Pages:  88%|████████▊ | 140/160 [00:49<00:04,  4.42it/s]"
     ]
    },
    {
     "name": "stdout",
     "output_type": "stream",
     "text": [
      "Scraping Page:  http://www.sjsu.edu/clery/docs/SJSU-Annual-Security-Report.pdf\n"
     ]
    },
    {
     "name": "stderr",
     "output_type": "stream",
     "text": [
      "Some characters could not be decoded, and were replaced with REPLACEMENT CHARACTER.\n",
      "Scraping Pages:  88%|████████▊ | 141/160 [00:51<00:10,  1.88it/s]"
     ]
    },
    {
     "name": "stdout",
     "output_type": "stream",
     "text": [
      "Scraping Page:  http://www.spartanbookstore.com/\n"
     ]
    },
    {
     "name": "stderr",
     "output_type": "stream",
     "text": [
      "Scraping Pages:  89%|████████▉ | 143/160 [00:51<00:06,  2.63it/s]"
     ]
    },
    {
     "name": "stdout",
     "output_type": "stream",
     "text": [
      "Scraping Page:  https://www.sjsu.edu/classes/calendar/index.php\n",
      "Scraping Page:  https://www.sjsu.edu/careers/index.php\n"
     ]
    },
    {
     "name": "stderr",
     "output_type": "stream",
     "text": [
      "Scraping Pages:  90%|█████████ | 144/160 [00:52<00:05,  3.06it/s]"
     ]
    },
    {
     "name": "stdout",
     "output_type": "stream",
     "text": [
      "Scraping Page:  https://catalog.sjsu.edu/index.php\n"
     ]
    },
    {
     "name": "stderr",
     "output_type": "stream",
     "text": [
      "Scraping Pages:  91%|█████████ | 145/160 [00:52<00:06,  2.17it/s]"
     ]
    },
    {
     "name": "stdout",
     "output_type": "stream",
     "text": [
      "Scraping Page:  https://www.sjsu.edu/students/\n",
      "Scraping Page:  https://www.sjsu.edu/sjsucares/get-assistance/\n"
     ]
    },
    {
     "name": "stderr",
     "output_type": "stream",
     "text": [
      "Scraping Pages:  92%|█████████▎| 148/160 [00:53<00:03,  3.72it/s]"
     ]
    },
    {
     "name": "stdout",
     "output_type": "stream",
     "text": [
      "Scraping Page:  https://www.sjsu.edu/up/index.php\n",
      "Scraping Page:  https://www.sjsu.edu/president/priorities-and-initiatives/free-speech/index.php\n"
     ]
    },
    {
     "name": "stderr",
     "output_type": "stream",
     "text": [
      "Scraping Pages:  93%|█████████▎| 149/160 [00:53<00:02,  4.34it/s]"
     ]
    },
    {
     "name": "stdout",
     "output_type": "stream",
     "text": [
      "Scraping Page:  http://library.sjsu.edu/\n"
     ]
    },
    {
     "name": "stderr",
     "output_type": "stream",
     "text": [
      "Scraping Pages:  94%|█████████▍| 151/160 [00:54<00:02,  3.58it/s]"
     ]
    },
    {
     "name": "stdout",
     "output_type": "stream",
     "text": [
      "Scraping Page:  https://blogs.sjsu.edu/newsroom/\n"
     ]
    },
    {
     "name": "stderr",
     "output_type": "stream",
     "text": [
      "Scraping Pages:  95%|█████████▌| 152/160 [00:54<00:01,  4.36it/s]"
     ]
    },
    {
     "name": "stdout",
     "output_type": "stream",
     "text": [
      "Scraping Page:  https://www.sjsu.edu/sjsucares/resources/parenting-students.php\n",
      "Scraping Page:  https://www.sjsu.edu/parking/index.php\n"
     ]
    },
    {
     "name": "stderr",
     "output_type": "stream",
     "text": [
      "Scraping Pages:  96%|█████████▋| 154/160 [00:54<00:01,  4.41it/s]"
     ]
    },
    {
     "name": "stdout",
     "output_type": "stream",
     "text": [
      "Scraping Page:  https://www.sjsu.edu/contact/index.php\n",
      "Scraping Page:  http://directory.sjsu.edu/\n"
     ]
    },
    {
     "name": "stderr",
     "output_type": "stream",
     "text": [
      "Scraping Pages:  97%|█████████▋| 155/160 [00:54<00:01,  4.17it/s]"
     ]
    },
    {
     "name": "stdout",
     "output_type": "stream",
     "text": [
      "Scraping Page:  https://www.sjsu.edu/about/doing-business-with-sjsu.php\n",
      "Scraping Page:  http://www.sjsu.edu/emergency\n"
     ]
    },
    {
     "name": "stderr",
     "output_type": "stream",
     "text": [
      "Scraping Pages:  98%|█████████▊| 157/160 [00:55<00:00,  5.00it/s]"
     ]
    },
    {
     "name": "stdout",
     "output_type": "stream",
     "text": [
      "Scraping Page:  https://www.sjsu.edu/up/resources/file-a-complaint.php\n"
     ]
    },
    {
     "name": "stderr",
     "output_type": "stream",
     "text": [
      "Scraping Pages:  99%|█████████▉| 159/160 [00:55<00:00,  4.93it/s]"
     ]
    },
    {
     "name": "stdout",
     "output_type": "stream",
     "text": [
      "Scraping Page:  https://www.sjsu.edu/titleixeo/make-a-report/index.php\n",
      "Scraping Page:  https://a.cms.omniupdate.com/11/?skin=sjsu&account=sjsu&site=www&action=de&path=/index.php\n"
     ]
    },
    {
     "name": "stderr",
     "output_type": "stream",
     "text": [
      "Scraping Pages: 100%|██████████| 160/160 [00:56<00:00,  2.85it/s]\n"
     ]
    }
   ],
   "source": [
    "from tqdm import tqdm  # Import tqdm\n",
    "\n",
    "\n",
    "def scrape_all_pages(links):\n",
    "    if (links==\"https://one.sjsu.edu\"):\n",
    "        return\n",
    "    all_pages_content = []\n",
    "    for link in tqdm(links, desc=\"Scraping Pages\"):  # Wrap links with tqdm\n",
    "        print(\"Scraping Page: \", link)\n",
    "        if (link==\"https://one.sjsu.edu\"):\n",
    "            return\n",
    "        headers = {\"User-Agent\": random.choice(user_agents)}\n",
    "        response = requests.get(link, headers=headers)\n",
    "        soup = BeautifulSoup(response.content, \"html.parser\")\n",
    "        all_pages_content.append(soup)\n",
    "    return all_pages_content\n",
    "\n",
    "\n",
    "all_pages_content = scrape_all_pages(final_links)\n",
    "\n",
    "# Save the scraped content to a text file\n",
    "with open(\"scraped_pages_content.txt\", \"w\", encoding=\"utf-8\") as file:\n",
    "    for page in all_pages_content:\n",
    "        file.write(page.get_text() + \"\\n\\n\")"
   ]
  },
  {
   "cell_type": "code",
   "execution_count": 53,
   "metadata": {},
   "outputs": [],
   "source": [
    "def clean_empty_lines(input_file, output_file):\n",
    "    with open(input_file, \"r\", encoding=\"utf-8\") as infile:\n",
    "        lines = infile.readlines()\n",
    "\n",
    "    # Remove empty lines and strip whitespace\n",
    "    cleaned_lines = [line.strip() for line in lines if line.strip()]\n",
    "\n",
    "    with open(output_file, \"w\", encoding=\"utf-8\") as outfile:\n",
    "        for line in cleaned_lines:\n",
    "            outfile.write(line + \"\\n\")\n",
    "\n",
    "\n",
    "clean_empty_lines(\"scraped_pages_content.txt\", \"filtered_data.txt\")"
   ]
  },
  {
   "cell_type": "code",
   "execution_count": 57,
   "metadata": {},
   "outputs": [],
   "source": [
    "import re\n",
    "\n",
    "# Load the text data\n",
    "with open(\"scraped_pages_content.txt\", \"r\", encoding=\"utf-8\") as file:\n",
    "    text = file.read()\n",
    "\n",
    "# Step 1: Remove boilerplate content by identifying common navigational patterns\n",
    "patterns = [\n",
    "    r\"Skip to main content\",\n",
    "    r\"Search\",\n",
    "    r\"Visit\",\n",
    "    r\"Apply\",\n",
    "    r\"Give\",  # Common phrases\n",
    "    r\"SJSU on [A-Za-z]+\",\n",
    "    r\"SJSU Online\",  # Social media links\n",
    "    r\"Footer\",\n",
    "    r\"Last Updated .*\",  # Footer and Last updated information\n",
    "]\n",
    "for pattern in patterns:\n",
    "    text = re.sub(pattern, \"\", text)\n",
    "\n",
    "# Step 2: Remove excessive whitespace\n",
    "text = re.sub(r\"\\n\\s*\\n\", \"\\n\", text)  # Reduce multiple newlines to a single newline\n",
    "\n",
    "# Step 3: Remove repetitive sections\n",
    "# Example: We could split sections by keywords and check for duplicates\n",
    "unique_sections = list(set(text.split(\"\\n\\n\")))  # Split and deduplicate sections\n",
    "cleaned_text = \"\\n\\n\".join(unique_sections)\n",
    "\n",
    "# Step 4: Save the cleaned text\n",
    "with open(\"cleaned_scraped_contentL1.txt\", \"w\", encoding=\"utf-8\") as file:\n",
    "    file.write(cleaned_text)"
   ]
  },
  {
   "cell_type": "code",
   "execution_count": 58,
   "metadata": {},
   "outputs": [],
   "source": [
    "import re\n",
    "\n",
    "\n",
    "def clean_noisy_data(text):\n",
    "    # Define a regex pattern to match unwanted characters\n",
    "    # This pattern removes non-printable characters and any other specified noise\n",
    "    cleaned_text = re.sub(\n",
    "        r\"[^\\x20-\\x7E]+\", \"\", text\n",
    "    )  # Keep only printable ASCII characters\n",
    "    return cleaned_text\n",
    "\n",
    "\n",
    "def clean_file(input_file, output_file):\n",
    "    with open(input_file, \"r\", encoding=\"utf-8\", errors=\"ignore\") as infile:\n",
    "        lines = infile.readlines()\n",
    "\n",
    "    cleaned_lines = [clean_noisy_data(line) for line in lines]\n",
    "\n",
    "    with open(output_file, \"w\", encoding=\"utf-8\") as outfile:\n",
    "        for line in cleaned_lines:\n",
    "            if line.strip():  # Only write non-empty lines\n",
    "                outfile.write(line + \"\\n\")\n",
    "\n",
    "\n",
    "# Usage\n",
    "clean_file(\"cleaned_scraped_contentL1.txt\", \"cleaned_scraped_contentL2.txt\")"
   ]
  }
 ],
 "metadata": {
  "kernelspec": {
   "display_name": "Python 3",
   "language": "python",
   "name": "python3"
  },
  "language_info": {
   "codemirror_mode": {
    "name": "ipython",
    "version": 3
   },
   "file_extension": ".py",
   "mimetype": "text/x-python",
   "name": "python",
   "nbconvert_exporter": "python",
   "pygments_lexer": "ipython3",
   "version": "3.10.6"
  }
 },
 "nbformat": 4,
 "nbformat_minor": 2
}
